{
 "cells": [
  {
   "cell_type": "code",
   "execution_count": null,
   "id": "f4443314",
   "metadata": {},
   "outputs": [],
   "source": [
    "# Question:1 To print the following String\n",
    "print(\"Twinkle ,twinkle, little star\")\n",
    "print(\"          How I wonder What You are!\")\n",
    "print(\"                 Up above the World So High!\")\n",
    "print(\"                 Like a diamond in the sky\")\n",
    "print(\"Twinkle ,twinkle, little star\")\n",
    "print(\"         How I wonder What You are!\")"
   ]
  },
  {
   "cell_type": "code",
   "execution_count": 2,
   "id": "a5408749",
   "metadata": {},
   "outputs": [
    {
     "name": "stdout",
     "output_type": "stream",
     "text": [
      "Python version\n",
      "3.9.7 (default, Sep 16 2021, 16:59:28) [MSC v.1916 64 bit (AMD64)]\n",
      "Version info.\n",
      "sys.version_info(major=3, minor=9, micro=7, releaselevel='final', serial=0)\n"
     ]
    }
   ],
   "source": [
    "# Question:2 To print Python Version What you are using.\n",
    "import sys\n",
    "print(\"Python version\")\n",
    "print (sys.version)\n",
    "print(\"Version info.\")\n",
    "print (sys.version_info)"
   ]
  },
  {
   "cell_type": "code",
   "execution_count": 3,
   "id": "843d76ee",
   "metadata": {},
   "outputs": [
    {
     "name": "stdout",
     "output_type": "stream",
     "text": [
      "Current date and time : \n",
      "2022-01-14 12:08:47\n"
     ]
    }
   ],
   "source": [
    "# Question:3 To print Python program current date & time. \n",
    "import datetime\n",
    "now = datetime.datetime.now()\n",
    "print (\"Current date and time : \")\n",
    "print (now.strftime(\"%Y-%m-%d %H:%M:%S\"))"
   ]
  },
  {
   "cell_type": "code",
   "execution_count": null,
   "id": "6cf2fd79",
   "metadata": {},
   "outputs": [],
   "source": [
    "# Question:4 To print Python program compute area of circle\n",
    "PI = 3.14\n",
    "r = float(input(\"Enter the radius of a circle:\"))\n",
    "area = PI * r * r\n",
    "print(\"Area of a circle = %.2f\" %area)"
   ]
  },
  {
   "cell_type": "code",
   "execution_count": null,
   "id": "734008b1",
   "metadata": {},
   "outputs": [],
   "source": [
    "# Question:5 write a python program which accepts the user first and last name and print them in reverse order \n",
    "fname = input(\"Input your First Name : \")\n",
    "lname = input(\"Input your Last Name : \")\n",
    "print (\"Hello  \" + lname + \" \" + fname)"
   ]
  },
  {
   "cell_type": "code",
   "execution_count": null,
   "id": "f4056692",
   "metadata": {},
   "outputs": [],
   "source": [
    "# Question:6 write a python program which accepts the input from user and addition \n",
    "num1 = int(input(\"Enter the num1:\"))\n",
    "num2 = int(input(\"Enter the num2:\"))\n",
    "sum=num1+num2\n",
    "print(\"Area of a circle = %.2d\" %sum)"
   ]
  }
 ],
 "metadata": {
  "kernelspec": {
   "display_name": "Python 3 (ipykernel)",
   "language": "python",
   "name": "python3"
  },
  "language_info": {
   "codemirror_mode": {
    "name": "ipython",
    "version": 3
   },
   "file_extension": ".py",
   "mimetype": "text/x-python",
   "name": "python",
   "nbconvert_exporter": "python",
   "pygments_lexer": "ipython3",
   "version": "3.9.7"
  }
 },
 "nbformat": 4,
 "nbformat_minor": 5
}
