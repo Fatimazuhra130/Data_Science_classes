{
 "cells": [
  {
   "cell_type": "markdown",
   "id": "7ae66f70",
   "metadata": {},
   "source": [
    "##Selenium\n",
    "##Dynamic Websites"
   ]
  },
  {
   "cell_type": "code",
   "execution_count": 10,
   "id": "2c765295",
   "metadata": {},
   "outputs": [],
   "source": [
    "import csv\n",
    "import pandas as pd\n"
   ]
  },
  {
   "cell_type": "code",
   "execution_count": 11,
   "id": "36d5cb03",
   "metadata": {},
   "outputs": [
    {
     "data": {
      "text/plain": [
       "'C:\\\\Users\\\\Hp\\\\anaconda3'"
      ]
     },
     "execution_count": 11,
     "metadata": {},
     "output_type": "execute_result"
    }
   ],
   "source": [
    "import os\n",
    "import sys\n",
    "os.path.dirname(sys.executable)"
   ]
  },
  {
   "cell_type": "code",
   "execution_count": 12,
   "id": "7d5e8735",
   "metadata": {},
   "outputs": [],
   "source": [
    "from selenium.webdriver.common.by import By\n",
    "from selenium.webdriver.support.ui import WebDriverWait\n",
    "from selenium.webdriver.support import expected_conditions as EC\n",
    "\n",
    "from selenium import webdriver\n",
    "from webdriver_manager.chrome import ChromeDriverManager"
   ]
  },
  {
   "cell_type": "code",
   "execution_count": 13,
   "id": "824ed29e",
   "metadata": {},
   "outputs": [],
   "source": [
    "def get_page(driver, url):\n",
    "    driver.get(url)\n",
    "    \n",
    "    btn_country = WebDriverWait(driver, 20).until(EC.presence_of_element_located((By.CLASS_NAME,\"btn-link\")))\n",
    "    btn_country.click()\n",
    "    \n",
    "    select_country = WebDriverWait(driver,20).until(EC.presence_of_element_located((By.XPATH, \"/html/body/div[5]/div[4]/div/div/div[2]/form/select/option[4]\")))\n",
    "    select_country.click()\n",
    "    \n",
    "    save_country = WebDriverWait(driver,20).until(EC.presence_of_element_located((By.XPATH,\"/html/body/div[5]/div[4]/div/div/div[3]/button[1]\")))\n",
    "    save_country.click()\n",
    "    \n",
    "    line_count = WebDriverWait(driver,20).until(EC.presence_of_element_located((By.XPATH,\"/html/body/div[5]/section[3]/div[2]/section/div[1]/div[3]/select\")))\n",
    "    line_count.click()\n",
    "    \n",
    "    select_count = WebDriverWait(driver,20).until(EC.presence_of_element_located((By.XPATH,\"/html/body/div[5]/section[3]/div[2]/section/div[1]/div[3]/select/option[3]\")))\n",
    "    select_count.click()\n",
    "    \n",
    "    lines = driver.find_elements_by_class_name('product-listing')\n",
    "    \n",
    "    return lines                                                \n",
    "                                                                                 \n"
   ]
  },
  {
   "cell_type": "code",
   "execution_count": null,
   "id": "bd97fdef",
   "metadata": {},
   "outputs": [],
   "source": []
  },
  {
   "cell_type": "code",
   "execution_count": 14,
   "id": "812156d6",
   "metadata": {},
   "outputs": [],
   "source": [
    "all_seller = []\n",
    "all_listing_condition = []\n",
    "all_price = []\n",
    "def get_prices(line):\n",
    "    try:\n",
    "        seller = line.find_element_by_class_name('seller__name').text.strip()\n",
    "    except:\n",
    "        seller = ''\n",
    "    try:\n",
    "        listing_condition = line.find_element_by_class_name('product-listing__condition').text.strip().lower()\n",
    "    except:\n",
    "        listing_condition = ''\n",
    "    try:\n",
    "        price = line.find_element_by_class_name('product-listing__price')\n",
    "    except:\n",
    "        price = ''\n",
    "    \n",
    "    price = price.text\n",
    "    price = float(price.replace('$','').replace(',',''))\n",
    "    all_seller.append(seller)\n",
    "    all_listing_condition(listing_condition)\n",
    "    all_price.append(price)\n",
    "    "
   ]
  },
  {
   "cell_type": "code",
   "execution_count": 18,
   "id": "180b971c",
   "metadata": {},
   "outputs": [],
   "source": [
    "def main():\n",
    "    url = 'https://www.tcgplayer.com/product/228666/yugioh-genesis-impact-meteonis-drytron?Language=English'\n",
    "    driver = webdriver.Chrome(ChromeDriverManager().install())\n",
    "    lines = get_page(driver,url)\n",
    "    \n",
    "    for line in lines:\n",
    "        get_prices(line)\n",
    "    \n",
    "    data = {\n",
    "        'sellers':all_seller,\n",
    "        'listing_condition': all_listing_condition,\n",
    "        'prices':all_price\n",
    "    }\n",
    "    df = pd.DataFrame(data)\n",
    "    df.to_csv('selenium_ex.csv')\n",
    "        \n",
    "    driver.quit()"
   ]
  },
  {
   "cell_type": "code",
   "execution_count": 19,
   "id": "935daf73",
   "metadata": {},
   "outputs": [
    {
     "name": "stdout",
     "output_type": "stream",
     "text": [
      "\n"
     ]
    },
    {
     "name": "stderr",
     "output_type": "stream",
     "text": [
      "[WDM] - ====== WebDriver manager ======\n",
      "[WDM] - Current google-chrome version is 102.0.5005\n",
      "[WDM] - Get LATEST chromedriver version for 102.0.5005 google-chrome\n",
      "[WDM] - Driver [C:\\Users\\Hp\\.wdm\\drivers\\chromedriver\\win32\\102.0.5005.61\\chromedriver.exe] found in cache\n",
      "C:\\Users\\Hp\\AppData\\Local\\Temp/ipykernel_20636/3906787728.py:3: DeprecationWarning: executable_path has been deprecated, please pass in a Service object\n",
      "  driver = webdriver.Chrome(ChromeDriverManager().install())\n"
     ]
    },
    {
     "ename": "TimeoutException",
     "evalue": "Message: \nStacktrace:\nBacktrace:\n\tOrdinal0 [0x00BAD953+2414931]\n\tOrdinal0 [0x00B3F5E1+1963489]\n\tOrdinal0 [0x00A2C6B8+837304]\n\tOrdinal0 [0x00A59500+1021184]\n\tOrdinal0 [0x00A5979B+1021851]\n\tOrdinal0 [0x00A86502+1205506]\n\tOrdinal0 [0x00A744E4+1131748]\n\tOrdinal0 [0x00A84812+1198098]\n\tOrdinal0 [0x00A742B6+1131190]\n\tOrdinal0 [0x00A4E860+976992]\n\tOrdinal0 [0x00A4F756+980822]\n\tGetHandleVerifier [0x00E1CC62+2510274]\n\tGetHandleVerifier [0x00E0F760+2455744]\n\tGetHandleVerifier [0x00C3EABA+551962]\n\tGetHandleVerifier [0x00C3D916+547446]\n\tOrdinal0 [0x00B45F3B+1990459]\n\tOrdinal0 [0x00B4A898+2009240]\n\tOrdinal0 [0x00B4A985+2009477]\n\tOrdinal0 [0x00B53AD1+2046673]\n\tBaseThreadInitThunk [0x7696FA29+25]\n\tRtlGetAppContainerNamedObjectPath [0x77AB7A7E+286]\n\tRtlGetAppContainerNamedObjectPath [0x77AB7A4E+238]\n",
     "output_type": "error",
     "traceback": [
      "\u001b[1;31m---------------------------------------------------------------------------\u001b[0m",
      "\u001b[1;31mTimeoutException\u001b[0m                          Traceback (most recent call last)",
      "\u001b[1;32m~\\AppData\\Local\\Temp/ipykernel_20636/451043146.py\u001b[0m in \u001b[0;36m<module>\u001b[1;34m\u001b[0m\n\u001b[1;32m----> 1\u001b[1;33m \u001b[0mmain\u001b[0m\u001b[1;33m(\u001b[0m\u001b[1;33m)\u001b[0m\u001b[1;33m\u001b[0m\u001b[1;33m\u001b[0m\u001b[0m\n\u001b[0m",
      "\u001b[1;32m~\\AppData\\Local\\Temp/ipykernel_20636/3906787728.py\u001b[0m in \u001b[0;36mmain\u001b[1;34m()\u001b[0m\n\u001b[0;32m      2\u001b[0m     \u001b[0murl\u001b[0m \u001b[1;33m=\u001b[0m \u001b[1;34m'https://www.tcgplayer.com/product/228666/yugioh-genesis-impact-meteonis-drytron?Language=English'\u001b[0m\u001b[1;33m\u001b[0m\u001b[1;33m\u001b[0m\u001b[0m\n\u001b[0;32m      3\u001b[0m     \u001b[0mdriver\u001b[0m \u001b[1;33m=\u001b[0m \u001b[0mwebdriver\u001b[0m\u001b[1;33m.\u001b[0m\u001b[0mChrome\u001b[0m\u001b[1;33m(\u001b[0m\u001b[0mChromeDriverManager\u001b[0m\u001b[1;33m(\u001b[0m\u001b[1;33m)\u001b[0m\u001b[1;33m.\u001b[0m\u001b[0minstall\u001b[0m\u001b[1;33m(\u001b[0m\u001b[1;33m)\u001b[0m\u001b[1;33m)\u001b[0m\u001b[1;33m\u001b[0m\u001b[1;33m\u001b[0m\u001b[0m\n\u001b[1;32m----> 4\u001b[1;33m     \u001b[0mlines\u001b[0m \u001b[1;33m=\u001b[0m \u001b[0mget_page\u001b[0m\u001b[1;33m(\u001b[0m\u001b[0mdriver\u001b[0m\u001b[1;33m,\u001b[0m\u001b[0murl\u001b[0m\u001b[1;33m)\u001b[0m\u001b[1;33m\u001b[0m\u001b[1;33m\u001b[0m\u001b[0m\n\u001b[0m\u001b[0;32m      5\u001b[0m \u001b[1;33m\u001b[0m\u001b[0m\n\u001b[0;32m      6\u001b[0m     \u001b[1;32mfor\u001b[0m \u001b[0mline\u001b[0m \u001b[1;32min\u001b[0m \u001b[0mlines\u001b[0m\u001b[1;33m:\u001b[0m\u001b[1;33m\u001b[0m\u001b[1;33m\u001b[0m\u001b[0m\n",
      "\u001b[1;32m~\\AppData\\Local\\Temp/ipykernel_20636/424459504.py\u001b[0m in \u001b[0;36mget_page\u001b[1;34m(driver, url)\u001b[0m\n\u001b[0;32m      2\u001b[0m     \u001b[0mdriver\u001b[0m\u001b[1;33m.\u001b[0m\u001b[0mget\u001b[0m\u001b[1;33m(\u001b[0m\u001b[0murl\u001b[0m\u001b[1;33m)\u001b[0m\u001b[1;33m\u001b[0m\u001b[1;33m\u001b[0m\u001b[0m\n\u001b[0;32m      3\u001b[0m \u001b[1;33m\u001b[0m\u001b[0m\n\u001b[1;32m----> 4\u001b[1;33m     \u001b[0mbtn_country\u001b[0m \u001b[1;33m=\u001b[0m \u001b[0mWebDriverWait\u001b[0m\u001b[1;33m(\u001b[0m\u001b[0mdriver\u001b[0m\u001b[1;33m,\u001b[0m \u001b[1;36m20\u001b[0m\u001b[1;33m)\u001b[0m\u001b[1;33m.\u001b[0m\u001b[0muntil\u001b[0m\u001b[1;33m(\u001b[0m\u001b[0mEC\u001b[0m\u001b[1;33m.\u001b[0m\u001b[0mpresence_of_element_located\u001b[0m\u001b[1;33m(\u001b[0m\u001b[1;33m(\u001b[0m\u001b[0mBy\u001b[0m\u001b[1;33m.\u001b[0m\u001b[0mCLASS_NAME\u001b[0m\u001b[1;33m,\u001b[0m\u001b[1;34m\"btn-link\"\u001b[0m\u001b[1;33m)\u001b[0m\u001b[1;33m)\u001b[0m\u001b[1;33m)\u001b[0m\u001b[1;33m\u001b[0m\u001b[1;33m\u001b[0m\u001b[0m\n\u001b[0m\u001b[0;32m      5\u001b[0m     \u001b[0mbtn_country\u001b[0m\u001b[1;33m.\u001b[0m\u001b[0mclick\u001b[0m\u001b[1;33m(\u001b[0m\u001b[1;33m)\u001b[0m\u001b[1;33m\u001b[0m\u001b[1;33m\u001b[0m\u001b[0m\n\u001b[0;32m      6\u001b[0m \u001b[1;33m\u001b[0m\u001b[0m\n",
      "\u001b[1;32m~\\anaconda3\\lib\\site-packages\\selenium\\webdriver\\support\\wait.py\u001b[0m in \u001b[0;36muntil\u001b[1;34m(self, method, message)\u001b[0m\n\u001b[0;32m     85\u001b[0m             \u001b[1;32mif\u001b[0m \u001b[0mtime\u001b[0m\u001b[1;33m.\u001b[0m\u001b[0mmonotonic\u001b[0m\u001b[1;33m(\u001b[0m\u001b[1;33m)\u001b[0m \u001b[1;33m>\u001b[0m \u001b[0mend_time\u001b[0m\u001b[1;33m:\u001b[0m\u001b[1;33m\u001b[0m\u001b[1;33m\u001b[0m\u001b[0m\n\u001b[0;32m     86\u001b[0m                 \u001b[1;32mbreak\u001b[0m\u001b[1;33m\u001b[0m\u001b[1;33m\u001b[0m\u001b[0m\n\u001b[1;32m---> 87\u001b[1;33m         \u001b[1;32mraise\u001b[0m \u001b[0mTimeoutException\u001b[0m\u001b[1;33m(\u001b[0m\u001b[0mmessage\u001b[0m\u001b[1;33m,\u001b[0m \u001b[0mscreen\u001b[0m\u001b[1;33m,\u001b[0m \u001b[0mstacktrace\u001b[0m\u001b[1;33m)\u001b[0m\u001b[1;33m\u001b[0m\u001b[1;33m\u001b[0m\u001b[0m\n\u001b[0m\u001b[0;32m     88\u001b[0m \u001b[1;33m\u001b[0m\u001b[0m\n\u001b[0;32m     89\u001b[0m     \u001b[1;32mdef\u001b[0m \u001b[0muntil_not\u001b[0m\u001b[1;33m(\u001b[0m\u001b[0mself\u001b[0m\u001b[1;33m,\u001b[0m \u001b[0mmethod\u001b[0m\u001b[1;33m,\u001b[0m \u001b[0mmessage\u001b[0m\u001b[1;33m=\u001b[0m\u001b[1;34m''\u001b[0m\u001b[1;33m)\u001b[0m\u001b[1;33m:\u001b[0m\u001b[1;33m\u001b[0m\u001b[1;33m\u001b[0m\u001b[0m\n",
      "\u001b[1;31mTimeoutException\u001b[0m: Message: \nStacktrace:\nBacktrace:\n\tOrdinal0 [0x00BAD953+2414931]\n\tOrdinal0 [0x00B3F5E1+1963489]\n\tOrdinal0 [0x00A2C6B8+837304]\n\tOrdinal0 [0x00A59500+1021184]\n\tOrdinal0 [0x00A5979B+1021851]\n\tOrdinal0 [0x00A86502+1205506]\n\tOrdinal0 [0x00A744E4+1131748]\n\tOrdinal0 [0x00A84812+1198098]\n\tOrdinal0 [0x00A742B6+1131190]\n\tOrdinal0 [0x00A4E860+976992]\n\tOrdinal0 [0x00A4F756+980822]\n\tGetHandleVerifier [0x00E1CC62+2510274]\n\tGetHandleVerifier [0x00E0F760+2455744]\n\tGetHandleVerifier [0x00C3EABA+551962]\n\tGetHandleVerifier [0x00C3D916+547446]\n\tOrdinal0 [0x00B45F3B+1990459]\n\tOrdinal0 [0x00B4A898+2009240]\n\tOrdinal0 [0x00B4A985+2009477]\n\tOrdinal0 [0x00B53AD1+2046673]\n\tBaseThreadInitThunk [0x7696FA29+25]\n\tRtlGetAppContainerNamedObjectPath [0x77AB7A7E+286]\n\tRtlGetAppContainerNamedObjectPath [0x77AB7A4E+238]\n"
     ]
    }
   ],
   "source": [
    "main()"
   ]
  },
  {
   "cell_type": "code",
   "execution_count": null,
   "id": "52f89dd9",
   "metadata": {},
   "outputs": [],
   "source": []
  }
 ],
 "metadata": {
  "kernelspec": {
   "display_name": "Python 3 (ipykernel)",
   "language": "python",
   "name": "python3"
  },
  "language_info": {
   "codemirror_mode": {
    "name": "ipython",
    "version": 3
   },
   "file_extension": ".py",
   "mimetype": "text/x-python",
   "name": "python",
   "nbconvert_exporter": "python",
   "pygments_lexer": "ipython3",
   "version": "3.9.7"
  }
 },
 "nbformat": 4,
 "nbformat_minor": 5
}
