{
 "cells": [
  {
   "cell_type": "markdown",
   "id": "637892a6",
   "metadata": {},
   "source": [
    "### SELENIUM\n",
    "### DYNAMIC WEBSITES"
   ]
  },
  {
   "cell_type": "code",
   "execution_count": 3,
   "id": "cb47e2cb",
   "metadata": {},
   "outputs": [],
   "source": [
    "import pandas as pd"
   ]
  },
  {
   "cell_type": "code",
   "execution_count": 11,
   "id": "c79df430",
   "metadata": {},
   "outputs": [],
   "source": [
    "from selenium.webdriver.common.by import By\n",
    "from selenium.webdriver.support.ui import WebDriverWait\n",
    "from selenium.webdriver.support import expected_conditions as EC\n",
    "\n",
    "from selenium import webdriver\n",
    "from webdriver_manager.chrome import ChromeDriverManager"
   ]
  },
  {
   "cell_type": "code",
   "execution_count": 22,
   "id": "5834161f",
   "metadata": {},
   "outputs": [],
   "source": [
    "def get_page(driver, url):\n",
    "    driver.get(url)\n",
    "    \n",
    "    btn_country = WebDriverWait(driver, 20).until(EC.presence_of_element_located((By.CLASS_NAME,\"btn-link\")))\n",
    "    btn_country.click()\n",
    "    \n",
    "    select_country = WebDriverWait(driver,20).until(EC.presence_of_element_located((By.XPATH, \"/html/body/div[5]/div[4]/div/div/div[2]/form/select/option[4]\")))\n",
    "    select_country.click()\n",
    "    \n",
    "    save_country = WebDriverWait(driver,20).until(EC.presence_of_element_located((By.XPATH,\"/html/body/div[5]/div[4]/div/div/div[3]/button[1]\")))\n",
    "    save_country.click()\n",
    "    \n",
    "    line_count = WebDriverWait(driver,20).until(EC.presence_of_element_located((By.XPATH,\"/html/body/div[5]/section[3]/div[2]/section/div[1]/div[3]/select\")))\n",
    "    line_count.click()\n",
    "    \n",
    "    select_count = WebDriverWait(driver,20).until(EC.presence_of_element_located((By.XPATH,\"/html/body/div[5]/section[3]/div[2]/section/div[1]/div[3]/select/option[3]\")))\n",
    "    select_count.click()\n",
    "    \n",
    "    lines = driver.find_elements_by_class_name('product-listing')\n",
    "    \n",
    "    return lines"
   ]
  },
  {
   "cell_type": "code",
   "execution_count": null,
   "id": "3561a0a4",
   "metadata": {},
   "outputs": [],
   "source": []
  },
  {
   "cell_type": "code",
   "execution_count": 23,
   "id": "a45f33c8",
   "metadata": {},
   "outputs": [],
   "source": [
    "all_seller = []\n",
    "all_listing_condition = []\n",
    "all_price = []\n",
    "def get_prices(line):\n",
    "    try:\n",
    "        seller = line.find_element_by_class_name('seller__name').text.strip()\n",
    "    except:\n",
    "        seller = ''\n",
    "    try:\n",
    "        listing_condition = line.find_element_by_class_name('product-listing__condition').text.strip().lower()\n",
    "    except:\n",
    "        listing_condition = ''\n",
    "    try:\n",
    "        price = line.find_element_by_class_name('product-listing__price')\n",
    "    except:\n",
    "        price = ''\n",
    "    \n",
    "    price = price.text\n",
    "    price = float(price.replace('$','').replace(',',''))\n",
    "    all_seller.append(seller)\n",
    "    all_listing_condition(listing_condition)\n",
    "    all_price.append(price)\n",
    "    \n",
    "    "
   ]
  },
  {
   "cell_type": "code",
   "execution_count": 24,
   "id": "271e9779",
   "metadata": {},
   "outputs": [],
   "source": [
    "def main():\n",
    "    url = 'https://www.tcgplayer.com/product/228666/yugioh-genesis-impact-meteonis-drytron?Language=English'\n",
    "    driver = webdriver.Chrome(ChromeDriverManager().install())\n",
    "    lines = get_page(driver,url)\n",
    "    \n",
    "    for line in lines:\n",
    "        get_prices(line)\n",
    "    \n",
    "    data = {\n",
    "        'sellers':all_seller,\n",
    "        'listing_condition': all_listing_condition,\n",
    "        'prices':all_price\n",
    "    }\n",
    "    df = pd.DataFrame(data)\n",
    "    df.to_csv('selenium_ex.csv')\n",
    "        \n",
    "    driver.quit()"
   ]
  },
  {
   "cell_type": "code",
   "execution_count": 25,
   "id": "2816dc2d",
   "metadata": {},
   "outputs": [
    {
     "name": "stderr",
     "output_type": "stream",
     "text": [
      "\n",
      "\n",
      "====== WebDriver manager ======\n",
      "Current google-chrome version is 101.0.4951\n",
      "Get LATEST chromedriver version for 101.0.4951 google-chrome\n",
      "Driver [/Users/alimughal/.wdm/drivers/chromedriver/mac64/101.0.4951.41/chromedriver] found in cache\n",
      "/var/folders/my/ffns8zhs00ndpg73r2pdxnfr0000gn/T/ipykernel_12232/3906787728.py:3: DeprecationWarning: executable_path has been deprecated, please pass in a Service object\n",
      "  driver = webdriver.Chrome(ChromeDriverManager().install())\n"
     ]
    },
    {
     "ename": "TimeoutException",
     "evalue": "Message: \nStacktrace:\n0   chromedriver                        0x000000010de0d2c9 chromedriver + 5120713\n1   chromedriver                        0x000000010dd9be33 chromedriver + 4656691\n2   chromedriver                        0x000000010d98b158 chromedriver + 393560\n3   chromedriver                        0x000000010d9bfedd chromedriver + 610013\n4   chromedriver                        0x000000010d9c0161 chromedriver + 610657\n5   chromedriver                        0x000000010d9f2244 chromedriver + 815684\n6   chromedriver                        0x000000010d9dd4ad chromedriver + 730285\n7   chromedriver                        0x000000010d9eff41 chromedriver + 806721\n8   chromedriver                        0x000000010d9dd373 chromedriver + 729971\n9   chromedriver                        0x000000010d9b3609 chromedriver + 558601\n10  chromedriver                        0x000000010d9b4635 chromedriver + 562741\n11  chromedriver                        0x000000010dddfb1d chromedriver + 4934429\n12  chromedriver                        0x000000010dde4295 chromedriver + 4952725\n13  chromedriver                        0x000000010dde93cf chromedriver + 4973519\n14  chromedriver                        0x000000010dde4cba chromedriver + 4955322\n15  chromedriver                        0x000000010ddbf37c chromedriver + 4801404\n16  chromedriver                        0x000000010ddfec68 chromedriver + 5061736\n17  chromedriver                        0x000000010ddfedef chromedriver + 5062127\n18  chromedriver                        0x000000010de145e5 chromedriver + 5150181\n19  libsystem_pthread.dylib             0x00007ff81e81e4e1 _pthread_start + 125\n20  libsystem_pthread.dylib             0x00007ff81e819f6b thread_start + 15\n",
     "output_type": "error",
     "traceback": [
      "\u001b[0;31m---------------------------------------------------------------------------\u001b[0m",
      "\u001b[0;31mTimeoutException\u001b[0m                          Traceback (most recent call last)",
      "Input \u001b[0;32mIn [25]\u001b[0m, in \u001b[0;36m<cell line: 1>\u001b[0;34m()\u001b[0m\n\u001b[0;32m----> 1\u001b[0m \u001b[43mmain\u001b[49m\u001b[43m(\u001b[49m\u001b[43m)\u001b[49m\n",
      "Input \u001b[0;32mIn [24]\u001b[0m, in \u001b[0;36mmain\u001b[0;34m()\u001b[0m\n\u001b[1;32m      2\u001b[0m url \u001b[38;5;241m=\u001b[39m \u001b[38;5;124m'\u001b[39m\u001b[38;5;124mhttps://www.tcgplayer.com/product/228666/yugioh-genesis-impact-meteonis-drytron?Language=English\u001b[39m\u001b[38;5;124m'\u001b[39m\n\u001b[1;32m      3\u001b[0m driver \u001b[38;5;241m=\u001b[39m webdriver\u001b[38;5;241m.\u001b[39mChrome(ChromeDriverManager()\u001b[38;5;241m.\u001b[39minstall())\n\u001b[0;32m----> 4\u001b[0m lines \u001b[38;5;241m=\u001b[39m \u001b[43mget_page\u001b[49m\u001b[43m(\u001b[49m\u001b[43mdriver\u001b[49m\u001b[43m,\u001b[49m\u001b[43murl\u001b[49m\u001b[43m)\u001b[49m\n\u001b[1;32m      6\u001b[0m \u001b[38;5;28;01mfor\u001b[39;00m line \u001b[38;5;129;01min\u001b[39;00m lines:\n\u001b[1;32m      7\u001b[0m     get_prices(line)\n",
      "Input \u001b[0;32mIn [22]\u001b[0m, in \u001b[0;36mget_page\u001b[0;34m(driver, url)\u001b[0m\n\u001b[1;32m      1\u001b[0m \u001b[38;5;28;01mdef\u001b[39;00m \u001b[38;5;21mget_page\u001b[39m(driver, url):\n\u001b[1;32m      2\u001b[0m     driver\u001b[38;5;241m.\u001b[39mget(url)\n\u001b[0;32m----> 4\u001b[0m     btn_country \u001b[38;5;241m=\u001b[39m \u001b[43mWebDriverWait\u001b[49m\u001b[43m(\u001b[49m\u001b[43mdriver\u001b[49m\u001b[43m,\u001b[49m\u001b[43m \u001b[49m\u001b[38;5;241;43m20\u001b[39;49m\u001b[43m)\u001b[49m\u001b[38;5;241;43m.\u001b[39;49m\u001b[43muntil\u001b[49m\u001b[43m(\u001b[49m\u001b[43mEC\u001b[49m\u001b[38;5;241;43m.\u001b[39;49m\u001b[43mpresence_of_element_located\u001b[49m\u001b[43m(\u001b[49m\u001b[43m(\u001b[49m\u001b[43mBy\u001b[49m\u001b[38;5;241;43m.\u001b[39;49m\u001b[43mCLASS_NAME\u001b[49m\u001b[43m,\u001b[49m\u001b[38;5;124;43m\"\u001b[39;49m\u001b[38;5;124;43mbtn-link\u001b[39;49m\u001b[38;5;124;43m\"\u001b[39;49m\u001b[43m)\u001b[49m\u001b[43m)\u001b[49m\u001b[43m)\u001b[49m\n\u001b[1;32m      5\u001b[0m     btn_country\u001b[38;5;241m.\u001b[39mclick()\n\u001b[1;32m      7\u001b[0m     select_country \u001b[38;5;241m=\u001b[39m WebDriverWait(driver,\u001b[38;5;241m20\u001b[39m)\u001b[38;5;241m.\u001b[39muntil(EC\u001b[38;5;241m.\u001b[39mpresence_of_element_located((By\u001b[38;5;241m.\u001b[39mXPATH, \u001b[38;5;124m\"\u001b[39m\u001b[38;5;124m/html/body/div[5]/div[4]/div/div/div[2]/form/select/option[4]\u001b[39m\u001b[38;5;124m\"\u001b[39m)))\n",
      "File \u001b[0;32m~/opt/anaconda3/lib/python3.9/site-packages/selenium/webdriver/support/wait.py:89\u001b[0m, in \u001b[0;36mWebDriverWait.until\u001b[0;34m(self, method, message)\u001b[0m\n\u001b[1;32m     87\u001b[0m     \u001b[38;5;28;01mif\u001b[39;00m time\u001b[38;5;241m.\u001b[39mmonotonic() \u001b[38;5;241m>\u001b[39m end_time:\n\u001b[1;32m     88\u001b[0m         \u001b[38;5;28;01mbreak\u001b[39;00m\n\u001b[0;32m---> 89\u001b[0m \u001b[38;5;28;01mraise\u001b[39;00m TimeoutException(message, screen, stacktrace)\n",
      "\u001b[0;31mTimeoutException\u001b[0m: Message: \nStacktrace:\n0   chromedriver                        0x000000010de0d2c9 chromedriver + 5120713\n1   chromedriver                        0x000000010dd9be33 chromedriver + 4656691\n2   chromedriver                        0x000000010d98b158 chromedriver + 393560\n3   chromedriver                        0x000000010d9bfedd chromedriver + 610013\n4   chromedriver                        0x000000010d9c0161 chromedriver + 610657\n5   chromedriver                        0x000000010d9f2244 chromedriver + 815684\n6   chromedriver                        0x000000010d9dd4ad chromedriver + 730285\n7   chromedriver                        0x000000010d9eff41 chromedriver + 806721\n8   chromedriver                        0x000000010d9dd373 chromedriver + 729971\n9   chromedriver                        0x000000010d9b3609 chromedriver + 558601\n10  chromedriver                        0x000000010d9b4635 chromedriver + 562741\n11  chromedriver                        0x000000010dddfb1d chromedriver + 4934429\n12  chromedriver                        0x000000010dde4295 chromedriver + 4952725\n13  chromedriver                        0x000000010dde93cf chromedriver + 4973519\n14  chromedriver                        0x000000010dde4cba chromedriver + 4955322\n15  chromedriver                        0x000000010ddbf37c chromedriver + 4801404\n16  chromedriver                        0x000000010ddfec68 chromedriver + 5061736\n17  chromedriver                        0x000000010ddfedef chromedriver + 5062127\n18  chromedriver                        0x000000010de145e5 chromedriver + 5150181\n19  libsystem_pthread.dylib             0x00007ff81e81e4e1 _pthread_start + 125\n20  libsystem_pthread.dylib             0x00007ff81e819f6b thread_start + 15\n"
     ]
    }
   ],
   "source": [
    "main()"
   ]
  },
  {
   "cell_type": "code",
   "execution_count": null,
   "id": "0e371eeb",
   "metadata": {},
   "outputs": [],
   "source": []
  }
 ],
 "metadata": {
  "kernelspec": {
   "display_name": "Python 3 (ipykernel)",
   "language": "python",
   "name": "python3"
  },
  "language_info": {
   "codemirror_mode": {
    "name": "ipython",
    "version": 3
   },
   "file_extension": ".py",
   "mimetype": "text/x-python",
   "name": "python",
   "nbconvert_exporter": "python",
   "pygments_lexer": "ipython3",
   "version": "3.9.7"
  }
 },
 "nbformat": 4,
 "nbformat_minor": 5
}
